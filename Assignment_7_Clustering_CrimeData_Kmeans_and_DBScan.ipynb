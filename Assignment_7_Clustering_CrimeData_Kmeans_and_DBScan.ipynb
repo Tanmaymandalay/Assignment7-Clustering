{
  "nbformat": 4,
  "nbformat_minor": 0,
  "metadata": {
    "colab": {
      "name": "Assignment_7_Clustering_CrimeData_Kmeans_and_DBScan.ipynb",
      "provenance": [],
      "collapsed_sections": []
    },
    "kernelspec": {
      "name": "python3",
      "display_name": "Python 3"
    },
    "language_info": {
      "name": "python"
    }
  },
  "cells": [
    {
      "cell_type": "code",
      "metadata": {
        "id": "MzmMHDv-9lLf"
      },
      "source": [
        "# Import Libraries\n",
        "import pandas as pd\n",
        "import numpy as np\n",
        "import matplotlib.pyplot as plt\n",
        "from sklearn.cluster import DBSCAN\n",
        "from sklearn.preprocessing import StandardScaler"
      ],
      "execution_count": 7,
      "outputs": []
    },
    {
      "cell_type": "code",
      "metadata": {
        "colab": {
          "base_uri": "https://localhost:8080/",
          "height": 355
        },
        "id": "CDIcnJBz-Fpj",
        "outputId": "5839bd34-1c5d-463f-d6d3-b4fa4be1d26a"
      },
      "source": [
        "crime = pd.read_csv('/content/crime_data.csv')\n",
        "crime.head(10)"
      ],
      "execution_count": 8,
      "outputs": [
        {
          "output_type": "execute_result",
          "data": {
            "text/html": [
              "<div>\n",
              "<style scoped>\n",
              "    .dataframe tbody tr th:only-of-type {\n",
              "        vertical-align: middle;\n",
              "    }\n",
              "\n",
              "    .dataframe tbody tr th {\n",
              "        vertical-align: top;\n",
              "    }\n",
              "\n",
              "    .dataframe thead th {\n",
              "        text-align: right;\n",
              "    }\n",
              "</style>\n",
              "<table border=\"1\" class=\"dataframe\">\n",
              "  <thead>\n",
              "    <tr style=\"text-align: right;\">\n",
              "      <th></th>\n",
              "      <th>Unnamed: 0</th>\n",
              "      <th>Murder</th>\n",
              "      <th>Assault</th>\n",
              "      <th>UrbanPop</th>\n",
              "      <th>Rape</th>\n",
              "    </tr>\n",
              "  </thead>\n",
              "  <tbody>\n",
              "    <tr>\n",
              "      <th>0</th>\n",
              "      <td>Alabama</td>\n",
              "      <td>13.2</td>\n",
              "      <td>236</td>\n",
              "      <td>58</td>\n",
              "      <td>21.2</td>\n",
              "    </tr>\n",
              "    <tr>\n",
              "      <th>1</th>\n",
              "      <td>Alaska</td>\n",
              "      <td>10.0</td>\n",
              "      <td>263</td>\n",
              "      <td>48</td>\n",
              "      <td>44.5</td>\n",
              "    </tr>\n",
              "    <tr>\n",
              "      <th>2</th>\n",
              "      <td>Arizona</td>\n",
              "      <td>8.1</td>\n",
              "      <td>294</td>\n",
              "      <td>80</td>\n",
              "      <td>31.0</td>\n",
              "    </tr>\n",
              "    <tr>\n",
              "      <th>3</th>\n",
              "      <td>Arkansas</td>\n",
              "      <td>8.8</td>\n",
              "      <td>190</td>\n",
              "      <td>50</td>\n",
              "      <td>19.5</td>\n",
              "    </tr>\n",
              "    <tr>\n",
              "      <th>4</th>\n",
              "      <td>California</td>\n",
              "      <td>9.0</td>\n",
              "      <td>276</td>\n",
              "      <td>91</td>\n",
              "      <td>40.6</td>\n",
              "    </tr>\n",
              "    <tr>\n",
              "      <th>5</th>\n",
              "      <td>Colorado</td>\n",
              "      <td>7.9</td>\n",
              "      <td>204</td>\n",
              "      <td>78</td>\n",
              "      <td>38.7</td>\n",
              "    </tr>\n",
              "    <tr>\n",
              "      <th>6</th>\n",
              "      <td>Connecticut</td>\n",
              "      <td>3.3</td>\n",
              "      <td>110</td>\n",
              "      <td>77</td>\n",
              "      <td>11.1</td>\n",
              "    </tr>\n",
              "    <tr>\n",
              "      <th>7</th>\n",
              "      <td>Delaware</td>\n",
              "      <td>5.9</td>\n",
              "      <td>238</td>\n",
              "      <td>72</td>\n",
              "      <td>15.8</td>\n",
              "    </tr>\n",
              "    <tr>\n",
              "      <th>8</th>\n",
              "      <td>Florida</td>\n",
              "      <td>15.4</td>\n",
              "      <td>335</td>\n",
              "      <td>80</td>\n",
              "      <td>31.9</td>\n",
              "    </tr>\n",
              "    <tr>\n",
              "      <th>9</th>\n",
              "      <td>Georgia</td>\n",
              "      <td>17.4</td>\n",
              "      <td>211</td>\n",
              "      <td>60</td>\n",
              "      <td>25.8</td>\n",
              "    </tr>\n",
              "  </tbody>\n",
              "</table>\n",
              "</div>"
            ],
            "text/plain": [
              "    Unnamed: 0  Murder  Assault  UrbanPop  Rape\n",
              "0      Alabama    13.2      236        58  21.2\n",
              "1       Alaska    10.0      263        48  44.5\n",
              "2      Arizona     8.1      294        80  31.0\n",
              "3     Arkansas     8.8      190        50  19.5\n",
              "4   California     9.0      276        91  40.6\n",
              "5     Colorado     7.9      204        78  38.7\n",
              "6  Connecticut     3.3      110        77  11.1\n",
              "7     Delaware     5.9      238        72  15.8\n",
              "8      Florida    15.4      335        80  31.9\n",
              "9      Georgia    17.4      211        60  25.8"
            ]
          },
          "metadata": {},
          "execution_count": 8
        }
      ]
    },
    {
      "cell_type": "code",
      "metadata": {
        "colab": {
          "base_uri": "https://localhost:8080/"
        },
        "id": "mvqkBpxv-Kpd",
        "outputId": "69093751-d460-489e-d928-9ac8fdc0ae16"
      },
      "source": [
        "crime.info()"
      ],
      "execution_count": 9,
      "outputs": [
        {
          "output_type": "stream",
          "name": "stdout",
          "text": [
            "<class 'pandas.core.frame.DataFrame'>\n",
            "RangeIndex: 50 entries, 0 to 49\n",
            "Data columns (total 5 columns):\n",
            " #   Column      Non-Null Count  Dtype  \n",
            "---  ------      --------------  -----  \n",
            " 0   Unnamed: 0  50 non-null     object \n",
            " 1   Murder      50 non-null     float64\n",
            " 2   Assault     50 non-null     int64  \n",
            " 3   UrbanPop    50 non-null     int64  \n",
            " 4   Rape        50 non-null     float64\n",
            "dtypes: float64(2), int64(2), object(1)\n",
            "memory usage: 2.1+ KB\n"
          ]
        }
      ]
    },
    {
      "cell_type": "code",
      "metadata": {
        "id": "KxzLEMvZHBPa"
      },
      "source": [
        "crime.drop(['Unnamed: 0'],axis=1,inplace=True)"
      ],
      "execution_count": 10,
      "outputs": []
    },
    {
      "cell_type": "code",
      "metadata": {
        "colab": {
          "base_uri": "https://localhost:8080/",
          "height": 355
        },
        "id": "pKLB7vqLHMa4",
        "outputId": "8824ba23-6569-4d5e-fe79-3a36422e4ffc"
      },
      "source": [
        "crime.head(10)"
      ],
      "execution_count": 11,
      "outputs": [
        {
          "output_type": "execute_result",
          "data": {
            "text/html": [
              "<div>\n",
              "<style scoped>\n",
              "    .dataframe tbody tr th:only-of-type {\n",
              "        vertical-align: middle;\n",
              "    }\n",
              "\n",
              "    .dataframe tbody tr th {\n",
              "        vertical-align: top;\n",
              "    }\n",
              "\n",
              "    .dataframe thead th {\n",
              "        text-align: right;\n",
              "    }\n",
              "</style>\n",
              "<table border=\"1\" class=\"dataframe\">\n",
              "  <thead>\n",
              "    <tr style=\"text-align: right;\">\n",
              "      <th></th>\n",
              "      <th>Murder</th>\n",
              "      <th>Assault</th>\n",
              "      <th>UrbanPop</th>\n",
              "      <th>Rape</th>\n",
              "    </tr>\n",
              "  </thead>\n",
              "  <tbody>\n",
              "    <tr>\n",
              "      <th>0</th>\n",
              "      <td>13.2</td>\n",
              "      <td>236</td>\n",
              "      <td>58</td>\n",
              "      <td>21.2</td>\n",
              "    </tr>\n",
              "    <tr>\n",
              "      <th>1</th>\n",
              "      <td>10.0</td>\n",
              "      <td>263</td>\n",
              "      <td>48</td>\n",
              "      <td>44.5</td>\n",
              "    </tr>\n",
              "    <tr>\n",
              "      <th>2</th>\n",
              "      <td>8.1</td>\n",
              "      <td>294</td>\n",
              "      <td>80</td>\n",
              "      <td>31.0</td>\n",
              "    </tr>\n",
              "    <tr>\n",
              "      <th>3</th>\n",
              "      <td>8.8</td>\n",
              "      <td>190</td>\n",
              "      <td>50</td>\n",
              "      <td>19.5</td>\n",
              "    </tr>\n",
              "    <tr>\n",
              "      <th>4</th>\n",
              "      <td>9.0</td>\n",
              "      <td>276</td>\n",
              "      <td>91</td>\n",
              "      <td>40.6</td>\n",
              "    </tr>\n",
              "    <tr>\n",
              "      <th>5</th>\n",
              "      <td>7.9</td>\n",
              "      <td>204</td>\n",
              "      <td>78</td>\n",
              "      <td>38.7</td>\n",
              "    </tr>\n",
              "    <tr>\n",
              "      <th>6</th>\n",
              "      <td>3.3</td>\n",
              "      <td>110</td>\n",
              "      <td>77</td>\n",
              "      <td>11.1</td>\n",
              "    </tr>\n",
              "    <tr>\n",
              "      <th>7</th>\n",
              "      <td>5.9</td>\n",
              "      <td>238</td>\n",
              "      <td>72</td>\n",
              "      <td>15.8</td>\n",
              "    </tr>\n",
              "    <tr>\n",
              "      <th>8</th>\n",
              "      <td>15.4</td>\n",
              "      <td>335</td>\n",
              "      <td>80</td>\n",
              "      <td>31.9</td>\n",
              "    </tr>\n",
              "    <tr>\n",
              "      <th>9</th>\n",
              "      <td>17.4</td>\n",
              "      <td>211</td>\n",
              "      <td>60</td>\n",
              "      <td>25.8</td>\n",
              "    </tr>\n",
              "  </tbody>\n",
              "</table>\n",
              "</div>"
            ],
            "text/plain": [
              "   Murder  Assault  UrbanPop  Rape\n",
              "0    13.2      236        58  21.2\n",
              "1    10.0      263        48  44.5\n",
              "2     8.1      294        80  31.0\n",
              "3     8.8      190        50  19.5\n",
              "4     9.0      276        91  40.6\n",
              "5     7.9      204        78  38.7\n",
              "6     3.3      110        77  11.1\n",
              "7     5.9      238        72  15.8\n",
              "8    15.4      335        80  31.9\n",
              "9    17.4      211        60  25.8"
            ]
          },
          "metadata": {},
          "execution_count": 11
        }
      ]
    },
    {
      "cell_type": "code",
      "metadata": {
        "id": "0qKGyCddHO7_"
      },
      "source": [
        "crime_norm = StandardScaler().fit(crime)\n",
        "X = crime_norm.transform(crime)"
      ],
      "execution_count": 12,
      "outputs": []
    },
    {
      "cell_type": "code",
      "metadata": {
        "colab": {
          "base_uri": "https://localhost:8080/"
        },
        "id": "OyduvzyrH1Qe",
        "outputId": "54d953a8-6634-4fc7-9bb1-1d9040b20b3d"
      },
      "source": [
        "X"
      ],
      "execution_count": 13,
      "outputs": [
        {
          "output_type": "execute_result",
          "data": {
            "text/plain": [
              "array([[ 1.25517927,  0.79078716, -0.52619514, -0.00345116],\n",
              "       [ 0.51301858,  1.11805959, -1.22406668,  2.50942392],\n",
              "       [ 0.07236067,  1.49381682,  1.00912225,  1.05346626],\n",
              "       [ 0.23470832,  0.23321191, -1.08449238, -0.18679398],\n",
              "       [ 0.28109336,  1.2756352 ,  1.77678094,  2.08881393],\n",
              "       [ 0.02597562,  0.40290872,  0.86954794,  1.88390137],\n",
              "       [-1.04088037, -0.73648418,  0.79976079, -1.09272319],\n",
              "       [-0.43787481,  0.81502956,  0.45082502, -0.58583422],\n",
              "       [ 1.76541475,  1.99078607,  1.00912225,  1.1505301 ],\n",
              "       [ 2.22926518,  0.48775713, -0.38662083,  0.49265293],\n",
              "       [-0.57702994, -1.51224105,  1.21848371, -0.11129987],\n",
              "       [-1.20322802, -0.61527217, -0.80534376, -0.75839217],\n",
              "       [ 0.60578867,  0.94836277,  1.21848371,  0.29852525],\n",
              "       [-0.13637203, -0.70012057, -0.03768506, -0.0250209 ],\n",
              "       [-1.29599811, -1.39102904, -0.5959823 , -1.07115345],\n",
              "       [-0.41468229, -0.67587817,  0.03210209, -0.34856705],\n",
              "       [ 0.44344101, -0.74860538, -0.94491807, -0.53190987],\n",
              "       [ 1.76541475,  0.94836277,  0.03210209,  0.10439756],\n",
              "       [-1.31919063, -1.06375661, -1.01470522, -1.44862395],\n",
              "       [ 0.81452136,  1.56654403,  0.10188925,  0.70835037],\n",
              "       [-0.78576263, -0.26375734,  1.35805802, -0.53190987],\n",
              "       [ 1.00006153,  1.02108998,  0.59039932,  1.49564599],\n",
              "       [-1.1800355 , -1.19708982,  0.03210209, -0.68289807],\n",
              "       [ 1.9277624 ,  1.06957478, -1.5032153 , -0.44563089],\n",
              "       [ 0.28109336,  0.0877575 ,  0.31125071,  0.75148985],\n",
              "       [-0.41468229, -0.74860538, -0.87513091, -0.521125  ],\n",
              "       [-0.80895515, -0.83345379, -0.24704653, -0.51034012],\n",
              "       [ 1.02325405,  0.98472638,  1.0789094 ,  2.671197  ],\n",
              "       [-1.31919063, -1.37890783, -0.66576945, -1.26528114],\n",
              "       [-0.08998698, -0.14254532,  1.63720664, -0.26228808],\n",
              "       [ 0.83771388,  1.38472601,  0.31125071,  1.17209984],\n",
              "       [ 0.76813632,  1.00896878,  1.42784517,  0.52500755],\n",
              "       [ 1.20879423,  2.01502847, -1.43342815, -0.55347961],\n",
              "       [-1.62069341, -1.52436225, -1.5032153 , -1.50254831],\n",
              "       [-0.11317951, -0.61527217,  0.66018648,  0.01811858],\n",
              "       [-0.27552716, -0.23951493,  0.1716764 , -0.13286962],\n",
              "       [-0.66980002, -0.14254532,  0.10188925,  0.87012344],\n",
              "       [-0.34510472, -0.78496898,  0.45082502, -0.68289807],\n",
              "       [-1.01768785,  0.03927269,  1.49763233, -1.39469959],\n",
              "       [ 1.53348953,  1.3119988 , -1.22406668,  0.13675217],\n",
              "       [-0.92491776, -1.027393  , -1.43342815, -0.90938037],\n",
              "       [ 1.25517927,  0.20896951, -0.45640799,  0.61128652],\n",
              "       [ 1.13921666,  0.36654512,  1.00912225,  0.46029832],\n",
              "       [-1.06407289, -0.61527217,  1.00912225,  0.17989166],\n",
              "       [-1.29599811, -1.48799864, -2.34066115, -1.08193832],\n",
              "       [ 0.16513075, -0.17890893, -0.17725937, -0.05737552],\n",
              "       [-0.87853272, -0.31224214,  0.52061217,  0.53579242],\n",
              "       [-0.48425985, -1.08799901, -1.85215107, -1.28685088],\n",
              "       [-1.20322802, -1.42739264,  0.03210209, -1.1250778 ],\n",
              "       [-0.22914211, -0.11830292, -0.38662083, -0.60740397]])"
            ]
          },
          "metadata": {},
          "execution_count": 13
        }
      ]
    },
    {
      "cell_type": "code",
      "metadata": {
        "colab": {
          "base_uri": "https://localhost:8080/"
        },
        "id": "uFlKvQHmH16g",
        "outputId": "428072b4-59b7-4ead-a9fa-9d13053be7d0"
      },
      "source": [
        "dbscan = DBSCAN(eps=1, min_samples=4)\n",
        "dbscan.fit(X)"
      ],
      "execution_count": 14,
      "outputs": [
        {
          "output_type": "execute_result",
          "data": {
            "text/plain": [
              "DBSCAN(algorithm='auto', eps=1, leaf_size=30, metric='euclidean',\n",
              "       metric_params=None, min_samples=4, n_jobs=None, p=None)"
            ]
          },
          "metadata": {},
          "execution_count": 14
        }
      ]
    },
    {
      "cell_type": "code",
      "metadata": {
        "colab": {
          "base_uri": "https://localhost:8080/"
        },
        "id": "I14S7HAvIAHb",
        "outputId": "1abaac03-c687-4ffa-9308-3725817de6e8"
      },
      "source": [
        "dbscan.labels_"
      ],
      "execution_count": 15,
      "outputs": [
        {
          "output_type": "execute_result",
          "data": {
            "text/plain": [
              "array([ 0, -1, -1, -1, -1, -1,  1, -1, -1, -1, -1,  1, -1,  1,  1,  1,  1,\n",
              "        0,  1, -1,  1, -1,  1, -1,  1,  1,  1, -1,  1,  1, -1, -1, -1,  1,\n",
              "        1,  1,  1,  1,  1,  0,  1,  0, -1,  1,  1,  1,  1,  1,  1,  1])"
            ]
          },
          "metadata": {},
          "execution_count": 15
        }
      ]
    },
    {
      "cell_type": "code",
      "metadata": {
        "colab": {
          "base_uri": "https://localhost:8080/",
          "height": 355
        },
        "id": "5etE5gpBIAxE",
        "outputId": "bb0415f3-e54e-426e-8bc7-6ae50639c1e0"
      },
      "source": [
        "crime['clusters']=dbscan.labels_\n",
        "crime.head(10)"
      ],
      "execution_count": 16,
      "outputs": [
        {
          "output_type": "execute_result",
          "data": {
            "text/html": [
              "<div>\n",
              "<style scoped>\n",
              "    .dataframe tbody tr th:only-of-type {\n",
              "        vertical-align: middle;\n",
              "    }\n",
              "\n",
              "    .dataframe tbody tr th {\n",
              "        vertical-align: top;\n",
              "    }\n",
              "\n",
              "    .dataframe thead th {\n",
              "        text-align: right;\n",
              "    }\n",
              "</style>\n",
              "<table border=\"1\" class=\"dataframe\">\n",
              "  <thead>\n",
              "    <tr style=\"text-align: right;\">\n",
              "      <th></th>\n",
              "      <th>Murder</th>\n",
              "      <th>Assault</th>\n",
              "      <th>UrbanPop</th>\n",
              "      <th>Rape</th>\n",
              "      <th>clusters</th>\n",
              "    </tr>\n",
              "  </thead>\n",
              "  <tbody>\n",
              "    <tr>\n",
              "      <th>0</th>\n",
              "      <td>13.2</td>\n",
              "      <td>236</td>\n",
              "      <td>58</td>\n",
              "      <td>21.2</td>\n",
              "      <td>0</td>\n",
              "    </tr>\n",
              "    <tr>\n",
              "      <th>1</th>\n",
              "      <td>10.0</td>\n",
              "      <td>263</td>\n",
              "      <td>48</td>\n",
              "      <td>44.5</td>\n",
              "      <td>-1</td>\n",
              "    </tr>\n",
              "    <tr>\n",
              "      <th>2</th>\n",
              "      <td>8.1</td>\n",
              "      <td>294</td>\n",
              "      <td>80</td>\n",
              "      <td>31.0</td>\n",
              "      <td>-1</td>\n",
              "    </tr>\n",
              "    <tr>\n",
              "      <th>3</th>\n",
              "      <td>8.8</td>\n",
              "      <td>190</td>\n",
              "      <td>50</td>\n",
              "      <td>19.5</td>\n",
              "      <td>-1</td>\n",
              "    </tr>\n",
              "    <tr>\n",
              "      <th>4</th>\n",
              "      <td>9.0</td>\n",
              "      <td>276</td>\n",
              "      <td>91</td>\n",
              "      <td>40.6</td>\n",
              "      <td>-1</td>\n",
              "    </tr>\n",
              "    <tr>\n",
              "      <th>5</th>\n",
              "      <td>7.9</td>\n",
              "      <td>204</td>\n",
              "      <td>78</td>\n",
              "      <td>38.7</td>\n",
              "      <td>-1</td>\n",
              "    </tr>\n",
              "    <tr>\n",
              "      <th>6</th>\n",
              "      <td>3.3</td>\n",
              "      <td>110</td>\n",
              "      <td>77</td>\n",
              "      <td>11.1</td>\n",
              "      <td>1</td>\n",
              "    </tr>\n",
              "    <tr>\n",
              "      <th>7</th>\n",
              "      <td>5.9</td>\n",
              "      <td>238</td>\n",
              "      <td>72</td>\n",
              "      <td>15.8</td>\n",
              "      <td>-1</td>\n",
              "    </tr>\n",
              "    <tr>\n",
              "      <th>8</th>\n",
              "      <td>15.4</td>\n",
              "      <td>335</td>\n",
              "      <td>80</td>\n",
              "      <td>31.9</td>\n",
              "      <td>-1</td>\n",
              "    </tr>\n",
              "    <tr>\n",
              "      <th>9</th>\n",
              "      <td>17.4</td>\n",
              "      <td>211</td>\n",
              "      <td>60</td>\n",
              "      <td>25.8</td>\n",
              "      <td>-1</td>\n",
              "    </tr>\n",
              "  </tbody>\n",
              "</table>\n",
              "</div>"
            ],
            "text/plain": [
              "   Murder  Assault  UrbanPop  Rape  clusters\n",
              "0    13.2      236        58  21.2         0\n",
              "1    10.0      263        48  44.5        -1\n",
              "2     8.1      294        80  31.0        -1\n",
              "3     8.8      190        50  19.5        -1\n",
              "4     9.0      276        91  40.6        -1\n",
              "5     7.9      204        78  38.7        -1\n",
              "6     3.3      110        77  11.1         1\n",
              "7     5.9      238        72  15.8        -1\n",
              "8    15.4      335        80  31.9        -1\n",
              "9    17.4      211        60  25.8        -1"
            ]
          },
          "metadata": {},
          "execution_count": 16
        }
      ]
    },
    {
      "cell_type": "code",
      "metadata": {
        "colab": {
          "base_uri": "https://localhost:8080/",
          "height": 171
        },
        "id": "sF-7I_YHIH0A",
        "outputId": "e9dbf2f8-2eb3-40cb-ba24-074a0af58f01"
      },
      "source": [
        "crime.groupby('clusters').agg(['mean']).reset_index()"
      ],
      "execution_count": 17,
      "outputs": [
        {
          "output_type": "execute_result",
          "data": {
            "text/html": [
              "<div>\n",
              "<style scoped>\n",
              "    .dataframe tbody tr th:only-of-type {\n",
              "        vertical-align: middle;\n",
              "    }\n",
              "\n",
              "    .dataframe tbody tr th {\n",
              "        vertical-align: top;\n",
              "    }\n",
              "\n",
              "    .dataframe thead tr th {\n",
              "        text-align: left;\n",
              "    }\n",
              "</style>\n",
              "<table border=\"1\" class=\"dataframe\">\n",
              "  <thead>\n",
              "    <tr>\n",
              "      <th></th>\n",
              "      <th>clusters</th>\n",
              "      <th>Murder</th>\n",
              "      <th>Assault</th>\n",
              "      <th>UrbanPop</th>\n",
              "      <th>Rape</th>\n",
              "    </tr>\n",
              "    <tr>\n",
              "      <th></th>\n",
              "      <th></th>\n",
              "      <th>mean</th>\n",
              "      <th>mean</th>\n",
              "      <th>mean</th>\n",
              "      <th>mean</th>\n",
              "    </tr>\n",
              "  </thead>\n",
              "  <tbody>\n",
              "    <tr>\n",
              "      <th>0</th>\n",
              "      <td>-1</td>\n",
              "      <td>11.005556</td>\n",
              "      <td>247.166667</td>\n",
              "      <td>70.666667</td>\n",
              "      <td>28.766667</td>\n",
              "    </tr>\n",
              "    <tr>\n",
              "      <th>1</th>\n",
              "      <td>0</td>\n",
              "      <td>14.050000</td>\n",
              "      <td>238.000000</td>\n",
              "      <td>57.750000</td>\n",
              "      <td>23.200000</td>\n",
              "    </tr>\n",
              "    <tr>\n",
              "      <th>2</th>\n",
              "      <td>1</td>\n",
              "      <td>4.825000</td>\n",
              "      <td>112.035714</td>\n",
              "      <td>63.357143</td>\n",
              "      <td>16.107143</td>\n",
              "    </tr>\n",
              "  </tbody>\n",
              "</table>\n",
              "</div>"
            ],
            "text/plain": [
              "  clusters     Murder     Assault   UrbanPop       Rape\n",
              "                 mean        mean       mean       mean\n",
              "0       -1  11.005556  247.166667  70.666667  28.766667\n",
              "1        0  14.050000  238.000000  57.750000  23.200000\n",
              "2        1   4.825000  112.035714  63.357143  16.107143"
            ]
          },
          "metadata": {},
          "execution_count": 17
        }
      ]
    },
    {
      "cell_type": "code",
      "metadata": {
        "colab": {
          "base_uri": "https://localhost:8080/",
          "height": 445
        },
        "id": "4NuHL4S0IaRX",
        "outputId": "9c14946b-5b34-47b7-ed0b-483612e9eae4"
      },
      "source": [
        "# Plot Clusters\n",
        "plt.figure(figsize=(10, 7))  \n",
        "plt.scatter(crime['clusters'],crime['UrbanPop'], c=dbscan.labels_)"
      ],
      "execution_count": 18,
      "outputs": [
        {
          "output_type": "execute_result",
          "data": {
            "text/plain": [
              "<matplotlib.collections.PathCollection at 0x7f078d5535d0>"
            ]
          },
          "metadata": {},
          "execution_count": 18
        },
        {
          "output_type": "display_data",
          "data": {
            "image/png": "[encoded data removed]",
            "text/plain": [
              "<Figure size 720x504 with 1 Axes>"
            ]
          },
          "metadata": {
            "needs_background": "light"
          }
        }
      ]
    },
    {
      "cell_type": "markdown",
      "metadata": {
        "id": "q43amiuSJGFG"
      },
      "source": [
        "**K-Means Algorithm**"
      ]
    },
    {
      "cell_type": "code",
      "metadata": {
        "id": "yRsA9EMzIu0f"
      },
      "source": [
        "from sklearn.cluster import KMeans"
      ],
      "execution_count": 19,
      "outputs": []
    },
    {
      "cell_type": "code",
      "metadata": {
        "id": "f0HiBC31JPco"
      },
      "source": [
        "wcss = []\n",
        "for i in range(1, 11):\n",
        "    kmeans = KMeans(n_clusters=i,random_state=0)\n",
        "    kmeans.fit(X)\n",
        "    wcss.append(kmeans.inertia_)"
      ],
      "execution_count": 20,
      "outputs": []
    },
    {
      "cell_type": "code",
      "metadata": {
        "colab": {
          "base_uri": "https://localhost:8080/",
          "height": 294
        },
        "id": "X5RMldmKJe7P",
        "outputId": "c82b24a1-5fb5-455d-e173-f571ba9fb72a"
      },
      "source": [
        "plt.plot(range(1, 11), wcss)\n",
        "plt.title('Elbow Method')\n",
        "plt.xlabel('Number of clusters')\n",
        "plt.ylabel('WCSS')\n",
        "plt.show()"
      ],
      "execution_count": 21,
      "outputs": [
        {
          "output_type": "display_data",
          "data": {
            "image/png": "[encoded data removed]",
            "text/plain": [
              "<Figure size 432x288 with 1 Axes>"
            ]
          },
          "metadata": {
            "needs_background": "light"
          }
        }
      ]
    },
    {
      "cell_type": "code",
      "metadata": {
        "colab": {
          "base_uri": "https://localhost:8080/"
        },
        "id": "4h5zg9leJn7b",
        "outputId": "ecf69107-7b48-4f3e-c050-d80e0df3f962"
      },
      "source": [
        "clusters_new = KMeans(4, random_state=42)\n",
        "clusters_new.fit(X)\n",
        "clusters_new.labels_"
      ],
      "execution_count": 22,
      "outputs": [
        {
          "output_type": "execute_result",
          "data": {
            "text/plain": [
              "array([0, 3, 3, 0, 3, 3, 1, 1, 3, 0, 1, 2, 3, 1, 2, 1, 2, 0, 2, 3, 1, 3,\n",
              "       2, 0, 3, 2, 2, 3, 2, 1, 3, 3, 0, 2, 1, 1, 1, 1, 1, 0, 2, 0, 3, 1,\n",
              "       2, 1, 1, 2, 2, 1], dtype=int32)"
            ]
          },
          "metadata": {},
          "execution_count": 22
        }
      ]
    },
    {
      "cell_type": "code",
      "metadata": {
        "colab": {
          "base_uri": "https://localhost:8080/",
          "height": 355
        },
        "id": "8vtFIRbXJuz0",
        "outputId": "8f67a1fd-0cdb-4711-a4f7-7310c0f067bf"
      },
      "source": [
        "crime['Kmeans_cluster'] = clusters_new.labels_\n",
        "crime.head(10)"
      ],
      "execution_count": 23,
      "outputs": [
        {
          "output_type": "execute_result",
          "data": {
            "text/html": [
              "<div>\n",
              "<style scoped>\n",
              "    .dataframe tbody tr th:only-of-type {\n",
              "        vertical-align: middle;\n",
              "    }\n",
              "\n",
              "    .dataframe tbody tr th {\n",
              "        vertical-align: top;\n",
              "    }\n",
              "\n",
              "    .dataframe thead th {\n",
              "        text-align: right;\n",
              "    }\n",
              "</style>\n",
              "<table border=\"1\" class=\"dataframe\">\n",
              "  <thead>\n",
              "    <tr style=\"text-align: right;\">\n",
              "      <th></th>\n",
              "      <th>Murder</th>\n",
              "      <th>Assault</th>\n",
              "      <th>UrbanPop</th>\n",
              "      <th>Rape</th>\n",
              "      <th>clusters</th>\n",
              "      <th>Kmeans_cluster</th>\n",
              "    </tr>\n",
              "  </thead>\n",
              "  <tbody>\n",
              "    <tr>\n",
              "      <th>0</th>\n",
              "      <td>13.2</td>\n",
              "      <td>236</td>\n",
              "      <td>58</td>\n",
              "      <td>21.2</td>\n",
              "      <td>0</td>\n",
              "      <td>0</td>\n",
              "    </tr>\n",
              "    <tr>\n",
              "      <th>1</th>\n",
              "      <td>10.0</td>\n",
              "      <td>263</td>\n",
              "      <td>48</td>\n",
              "      <td>44.5</td>\n",
              "      <td>-1</td>\n",
              "      <td>3</td>\n",
              "    </tr>\n",
              "    <tr>\n",
              "      <th>2</th>\n",
              "      <td>8.1</td>\n",
              "      <td>294</td>\n",
              "      <td>80</td>\n",
              "      <td>31.0</td>\n",
              "      <td>-1</td>\n",
              "      <td>3</td>\n",
              "    </tr>\n",
              "    <tr>\n",
              "      <th>3</th>\n",
              "      <td>8.8</td>\n",
              "      <td>190</td>\n",
              "      <td>50</td>\n",
              "      <td>19.5</td>\n",
              "      <td>-1</td>\n",
              "      <td>0</td>\n",
              "    </tr>\n",
              "    <tr>\n",
              "      <th>4</th>\n",
              "      <td>9.0</td>\n",
              "      <td>276</td>\n",
              "      <td>91</td>\n",
              "      <td>40.6</td>\n",
              "      <td>-1</td>\n",
              "      <td>3</td>\n",
              "    </tr>\n",
              "    <tr>\n",
              "      <th>5</th>\n",
              "      <td>7.9</td>\n",
              "      <td>204</td>\n",
              "      <td>78</td>\n",
              "      <td>38.7</td>\n",
              "      <td>-1</td>\n",
              "      <td>3</td>\n",
              "    </tr>\n",
              "    <tr>\n",
              "      <th>6</th>\n",
              "      <td>3.3</td>\n",
              "      <td>110</td>\n",
              "      <td>77</td>\n",
              "      <td>11.1</td>\n",
              "      <td>1</td>\n",
              "      <td>1</td>\n",
              "    </tr>\n",
              "    <tr>\n",
              "      <th>7</th>\n",
              "      <td>5.9</td>\n",
              "      <td>238</td>\n",
              "      <td>72</td>\n",
              "      <td>15.8</td>\n",
              "      <td>-1</td>\n",
              "      <td>1</td>\n",
              "    </tr>\n",
              "    <tr>\n",
              "      <th>8</th>\n",
              "      <td>15.4</td>\n",
              "      <td>335</td>\n",
              "      <td>80</td>\n",
              "      <td>31.9</td>\n",
              "      <td>-1</td>\n",
              "      <td>3</td>\n",
              "    </tr>\n",
              "    <tr>\n",
              "      <th>9</th>\n",
              "      <td>17.4</td>\n",
              "      <td>211</td>\n",
              "      <td>60</td>\n",
              "      <td>25.8</td>\n",
              "      <td>-1</td>\n",
              "      <td>0</td>\n",
              "    </tr>\n",
              "  </tbody>\n",
              "</table>\n",
              "</div>"
            ],
            "text/plain": [
              "   Murder  Assault  UrbanPop  Rape  clusters  Kmeans_cluster\n",
              "0    13.2      236        58  21.2         0               0\n",
              "1    10.0      263        48  44.5        -1               3\n",
              "2     8.1      294        80  31.0        -1               3\n",
              "3     8.8      190        50  19.5        -1               0\n",
              "4     9.0      276        91  40.6        -1               3\n",
              "5     7.9      204        78  38.7        -1               3\n",
              "6     3.3      110        77  11.1         1               1\n",
              "7     5.9      238        72  15.8        -1               1\n",
              "8    15.4      335        80  31.9        -1               3\n",
              "9    17.4      211        60  25.8        -1               0"
            ]
          },
          "metadata": {},
          "execution_count": 23
        }
      ]
    },
    {
      "cell_type": "code",
      "metadata": {
        "colab": {
          "base_uri": "https://localhost:8080/"
        },
        "id": "Pc9dzZ_VJ1XY",
        "outputId": "7d1439f7-aa77-4ce8-e789-cdea8431fe1e"
      },
      "source": [
        "clusters_new.cluster_centers_"
      ],
      "execution_count": 24,
      "outputs": [
        {
          "output_type": "execute_result",
          "data": {
            "text/plain": [
              "array([[ 1.42622412,  0.88321132, -0.82279055,  0.01946669],\n",
              "       [-0.49440658, -0.3864845 ,  0.58167593, -0.26431024],\n",
              "       [-0.97130281, -1.11783581, -0.93954982, -0.97657842],\n",
              "       [ 0.70212683,  1.04999438,  0.72997363,  1.28990383]])"
            ]
          },
          "metadata": {},
          "execution_count": 24
        }
      ]
    },
    {
      "cell_type": "code",
      "metadata": {
        "colab": {
          "base_uri": "https://localhost:8080/",
          "height": 202
        },
        "id": "BUGuTGyNJ7r2",
        "outputId": "cf5485e2-6432-4bac-bd9c-e42256b41b6d"
      },
      "source": [
        "crime.groupby('Kmeans_cluster').agg(['mean']).reset_index()"
      ],
      "execution_count": 26,
      "outputs": [
        {
          "output_type": "execute_result",
          "data": {
            "text/html": [
              "<div>\n",
              "<style scoped>\n",
              "    .dataframe tbody tr th:only-of-type {\n",
              "        vertical-align: middle;\n",
              "    }\n",
              "\n",
              "    .dataframe tbody tr th {\n",
              "        vertical-align: top;\n",
              "    }\n",
              "\n",
              "    .dataframe thead tr th {\n",
              "        text-align: left;\n",
              "    }\n",
              "</style>\n",
              "<table border=\"1\" class=\"dataframe\">\n",
              "  <thead>\n",
              "    <tr>\n",
              "      <th></th>\n",
              "      <th>Kmeans_cluster</th>\n",
              "      <th>Murder</th>\n",
              "      <th>Assault</th>\n",
              "      <th>UrbanPop</th>\n",
              "      <th>Rape</th>\n",
              "      <th>clusters</th>\n",
              "    </tr>\n",
              "    <tr>\n",
              "      <th></th>\n",
              "      <th></th>\n",
              "      <th>mean</th>\n",
              "      <th>mean</th>\n",
              "      <th>mean</th>\n",
              "      <th>mean</th>\n",
              "      <th>mean</th>\n",
              "    </tr>\n",
              "  </thead>\n",
              "  <tbody>\n",
              "    <tr>\n",
              "      <th>0</th>\n",
              "      <td>0</td>\n",
              "      <td>13.937500</td>\n",
              "      <td>243.625000</td>\n",
              "      <td>53.750000</td>\n",
              "      <td>21.412500</td>\n",
              "      <td>-0.500000</td>\n",
              "    </tr>\n",
              "    <tr>\n",
              "      <th>1</th>\n",
              "      <td>1</td>\n",
              "      <td>5.656250</td>\n",
              "      <td>138.875000</td>\n",
              "      <td>73.875000</td>\n",
              "      <td>18.781250</td>\n",
              "      <td>0.750000</td>\n",
              "    </tr>\n",
              "    <tr>\n",
              "      <th>2</th>\n",
              "      <td>2</td>\n",
              "      <td>3.600000</td>\n",
              "      <td>78.538462</td>\n",
              "      <td>52.076923</td>\n",
              "      <td>12.176923</td>\n",
              "      <td>1.000000</td>\n",
              "    </tr>\n",
              "    <tr>\n",
              "      <th>3</th>\n",
              "      <td>3</td>\n",
              "      <td>10.815385</td>\n",
              "      <td>257.384615</td>\n",
              "      <td>76.000000</td>\n",
              "      <td>33.192308</td>\n",
              "      <td>-0.846154</td>\n",
              "    </tr>\n",
              "  </tbody>\n",
              "</table>\n",
              "</div>"
            ],
            "text/plain": [
              "  Kmeans_cluster     Murder     Assault   UrbanPop       Rape  clusters\n",
              "                       mean        mean       mean       mean      mean\n",
              "0              0  13.937500  243.625000  53.750000  21.412500 -0.500000\n",
              "1              1   5.656250  138.875000  73.875000  18.781250  0.750000\n",
              "2              2   3.600000   78.538462  52.076923  12.176923  1.000000\n",
              "3              3  10.815385  257.384615  76.000000  33.192308 -0.846154"
            ]
          },
          "metadata": {},
          "execution_count": 26
        }
      ]
    },
    {
      "cell_type": "code",
      "metadata": {
        "id": "-_JELDEtJ_Td",
        "colab": {
          "base_uri": "https://localhost:8080/",
          "height": 448
        },
        "outputId": "59a89b9a-1d6e-4a8e-d04e-5f58a0e9c798"
      },
      "source": [
        "# Plot Clusters\n",
        "plt.figure(figsize=(10, 7))  \n",
        "plt.scatter(crime['Kmeans_cluster'],crime['Assault'], c=clusters_new.labels_)"
      ],
      "execution_count": 29,
      "outputs": [
        {
          "output_type": "execute_result",
          "data": {
            "text/plain": [
              "<matplotlib.collections.PathCollection at 0x7f0784f01750>"
            ]
          },
          "metadata": {},
          "execution_count": 29
        },
        {
          "output_type": "display_data",
          "data": {
            "image/png": "[encoded data removed]",
            "text/plain": [
              "<Figure size 720x504 with 1 Axes>"
            ]
          },
          "metadata": {
            "needs_background": "light"
          }
        }
      ]
    }
  ]
}